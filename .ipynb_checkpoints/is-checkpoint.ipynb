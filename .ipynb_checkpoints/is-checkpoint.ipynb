{
 "cells": [
  {
   "cell_type": "markdown",
   "metadata": {
    "collapsed": false
   },
   "source": [
    "**Программирование и анализ**"
   ]
  },
  {
   "cell_type": "markdown",
   "metadata": {},
   "source": [
    "Задание №1  \n",
    "Поиск 5ти пользователей, сгенерировавших наибольшее количество запросов"
   ]
  },
  {
   "cell_type": "markdown",
   "metadata": {},
   "source": [
    "Для начала подготовим данные в удобном виде: распарсим лог и сделаем список словарей, где словарь - строчка из лога"
   ]
  },
  {
   "cell_type": "code",
   "execution_count": 1,
   "metadata": {
    "collapsed": true
   },
   "outputs": [],
   "source": [
    "import csv\n",
    "index = 0\n",
    "\n",
    "file_name = 'access.log'\n",
    "log = list()\n",
    "with open(file_name, 'r') as log_file:\n",
    "    reader=csv.reader(log_file,delimiter=' ')\n",
    "    for row in reader:\n",
    "        index += 1\n",
    "        log.append(filter(None, row))"
   ]
  },
  {
   "cell_type": "code",
   "execution_count": 2,
   "metadata": {
    "collapsed": false
   },
   "outputs": [],
   "source": [
    "keys = [key for key in log[0][0].split('\\t') if not (key == '' or key == '\\n')]\n",
    "full_log = list()\n",
    "for row in log:\n",
    "    temp_dict = dict()\n",
    "    for i, note in enumerate(row):\n",
    "        temp_dict[keys[i]] = note\n",
    "    full_log.append(temp_dict)"
   ]
  },
  {
   "cell_type": "markdown",
   "metadata": {},
   "source": [
    "Отсортируем наш список по полю username, чтобы можно было бы сгруппировать по этому полю. Для каждого пользователя считаем, сколько запросов он сделал и добавляем это значение в словарь count_request = {username: count}"
   ]
  },
  {
   "cell_type": "code",
   "execution_count": 211,
   "metadata": {
    "collapsed": false
   },
   "outputs": [],
   "source": [
    "sorted_log = sorted(full_log[1:], key=lambda x: x['username'])"
   ]
  },
  {
   "cell_type": "code",
   "execution_count": 212,
   "metadata": {
    "collapsed": false
   },
   "outputs": [],
   "source": [
    "from itertools import groupby\n",
    "count_request = dict()\n",
    "for username, data in groupby(sorted_log, lambda x: x['username']):\n",
    "    count_request[username] = len(list(data))"
   ]
  },
  {
   "cell_type": "code",
   "execution_count": 213,
   "metadata": {
    "collapsed": false
   },
   "outputs": [
    {
     "data": {
      "text/plain": [
       "[('adda', 2282),\n",
       " ('kostenkovag', 2346),\n",
       " ('podkopaevata', 2401),\n",
       " ('sevankoav', 2707),\n",
       " ('anagafonova', 5005),\n",
       " ('-', 22559)]"
      ]
     },
     "execution_count": 213,
     "metadata": {},
     "output_type": "execute_result"
    }
   ],
   "source": [
    "import operator\n",
    "result_request = sorted(count_request.items(), key=operator.itemgetter(1))\n",
    "result_request[-6:]"
   ]
  },
  {
   "cell_type": "markdown",
   "metadata": {},
   "source": [
    "Задание №2  \n",
    "Поиск 5ти пользователей, отправивших наибольшее количество данных "
   ]
  },
  {
   "cell_type": "markdown",
   "metadata": {},
   "source": [
    "Возьмем тот же сортированный список, снова сгруппируем его по полю username и просуммируем поле 'total_request_size' для каждого запроса пользователя. Добавим все в словарь count_size = {username: size}"
   ]
  },
  {
   "cell_type": "code",
   "execution_count": 214,
   "metadata": {
    "collapsed": false
   },
   "outputs": [],
   "source": [
    "count_size = dict()\n",
    "for username, data in groupby(sorted_log, lambda x: x['username']):\n",
    "    size = sum([int(request['total_request_size']) for request in data])\n",
    "    count_size[username] = size"
   ]
  },
  {
   "cell_type": "code",
   "execution_count": 215,
   "metadata": {
    "collapsed": false
   },
   "outputs": [
    {
     "data": {
      "text/plain": [
       "[('podkopaevata', 80460500),\n",
       " ('klo', 81220767),\n",
       " ('-', 92142665),\n",
       " ('kostenkovag', 99511049),\n",
       " ('romangr', 126630571),\n",
       " ('valievrs', 173720675)]"
      ]
     },
     "execution_count": 215,
     "metadata": {},
     "output_type": "execute_result"
    }
   ],
   "source": [
    "result_size = sorted(count_size.items(), key=operator.itemgetter(1))\n",
    "result_size[-6:]"
   ]
  },
  {
   "cell_type": "markdown",
   "metadata": {},
   "source": [
    "Задание №3  \n",
    "Поиск обращений к зараженным сайтам из списка (http://www.malwaredomainlist.com/hostslist/hosts.txt)"
   ]
  },
  {
   "cell_type": "markdown",
   "metadata": {},
   "source": [
    "Скачаем файл hosts.txt и распарсим его и положим в список domain_list. "
   ]
  },
  {
   "cell_type": "code",
   "execution_count": 216,
   "metadata": {
    "collapsed": false
   },
   "outputs": [],
   "source": [
    "file_name = 'hosts.txt'\n",
    "hosts = list()\n",
    "with open(file_name, 'r') as host_file:\n",
    "    for row in host_file:\n",
    "        hosts.append(row.replace('\\r\\n', ''))\n",
    "domain_list = [row.split('  ')[1] for row in hosts[6:]]"
   ]
  },
  {
   "cell_type": "markdown",
   "metadata": {},
   "source": [
    "Для каждого запроса из лога проверяем вхождение в список зараженных сайтов. Обрабатываем формат урлов, которых не смог распарсить urlparse.netloc. На весь лог нашлось только 1 совпадение."
   ]
  },
  {
   "cell_type": "code",
   "execution_count": 217,
   "metadata": {
    "collapsed": false
   },
   "outputs": [
    {
     "data": {
      "text/plain": [
       "[{'answer_size': '499',\n",
       "  'hierarhy/server_ip': 'DIRECT/yougube.com',\n",
       "  'mime_type': '-',\n",
       "  'referer': 'http://pdf1.alldatasheet.com/datasheet-pdf/view/32435/TOSHIBA/TLP521-1.html',\n",
       "  'request_method': 'GET',\n",
       "  'request_status/answer_status': 'TCP_MISS/304',\n",
       "  'request_url': 'http://yougube.com/bebeok/img/en.gif',\n",
       "  'response_time': '709',\n",
       "  'src_ip': '10.226.116.96',\n",
       "  'time': '1457684277.218',\n",
       "  'total_request_size': '283',\n",
       "  'username': 'brychkinnb'}]"
      ]
     },
     "execution_count": 217,
     "metadata": {},
     "output_type": "execute_result"
    }
   ],
   "source": [
    "from urlparse import urlparse\n",
    "counter = 0\n",
    "bad_requests = list()\n",
    "for request in full_log[1:]:\n",
    "    if urlparse(request['request_url']).netloc == '':\n",
    "        url = ('.'.join(request['request_url'].split('.')[-2:])).split(':')[0]\n",
    "        if url in domain_list:\n",
    "            bad_requests.append(request)\n",
    "    elif urlparse(request['request_url']).netloc in domain_list:\n",
    "        bad_requests.append(request)\n",
    "bad_requests"
   ]
  },
  {
   "cell_type": "markdown",
   "metadata": {},
   "source": [
    "Задание №4  \n",
    "Поиск регулярных запросов (запросов выполняющихся периодически) по полю username "
   ]
  },
  {
   "cell_type": "markdown",
   "metadata": {},
   "source": [
    "Подготавливаем данные для работы алгоритма. Если для пользователя количество запросов по адресу меньше 10, то мы их не учитываем. Цепочку запросов считаем периодичной, если в ней находится хотя бы 3 запроса. Два запроса входят в одну цепочку периодичных запросов, если разница между ними |t2-t1| <= delta, где delta = 0.1s. При обработке запросов, если разница во времени между первым и вторым запросом меньше delta, то мы второй запрос не учитываем. "
   ]
  },
  {
   "cell_type": "code",
   "execution_count": 218,
   "metadata": {
    "collapsed": false
   },
   "outputs": [],
   "source": [
    "from collections import defaultdict\n",
    "\n",
    "time_list = list()\n",
    "for username, data in groupby(sorted_log, lambda x: x['username']):\n",
    "    if username == '-': # пропускаем запросы без пользователя\n",
    "        continue\n",
    "    new_data = list(data)\n",
    "    sorted_data = sorted(new_data, key=lambda x: x['request_url'])\n",
    "    for url, data in groupby(sorted_data, lambda x: x['request_url']):\n",
    "        requests = list()\n",
    "        list_of_data = list(data)\n",
    "        sorted_data = sorted(list_of_data, key=lambda x: x['time'])\n",
    "        for request in sorted_data:\n",
    "            requests.append(int(float(request['time'])*1000))\n",
    "        if len(requests) > 10: \n",
    "            time_list.append({'username': username, 'url': url, 'count': len(requests), 'data': requests})"
   ]
  },
  {
   "cell_type": "markdown",
   "metadata": {},
   "source": [
    "Сортируем данный список по количеству запросов, чтобы построить график зависимости времени, от количества запросов. (чтобы проверить сложность алгоритма)"
   ]
  },
  {
   "cell_type": "code",
   "execution_count": 219,
   "metadata": {
    "collapsed": false
   },
   "outputs": [],
   "source": [
    "sorted_time_list = sorted(time_list, key=lambda x: x['count'])"
   ]
  },
  {
   "cell_type": "markdown",
   "metadata": {},
   "source": [
    "Запускаем алгоритм нахождения периодичных запросов и смотрим полученный график."
   ]
  },
  {
   "cell_type": "code",
   "execution_count": 222,
   "metadata": {
    "collapsed": false,
    "scrolled": true
   },
   "outputs": [],
   "source": [
    "import time\n",
    "chunks = list()\n",
    "plot = list()\n",
    "\n",
    "for index, elem in enumerate(sorted_time_list):\n",
    "    time_start = time.time()\n",
    "    new_time_list = elem['data']\n",
    "    helpers = list()\n",
    "    for i, core_event in enumerate(new_time_list):\n",
    "        for j, next_core_event in enumerate(new_time_list[i+1:]):\n",
    "            chunk = list()\n",
    "            chunk.append(core_event)\n",
    "            chunk.append(next_core_event)\n",
    "            delta = next_core_event - core_event\n",
    "            if delta <= 100:\n",
    "                continue\n",
    "            last_event = next_core_event\n",
    "            for new_event in new_time_list[i+j+2:]:\n",
    "                if new_event - last_event > delta:\n",
    "                    if (chunk[-1], delta) in helpers:\n",
    "                        break\n",
    "                    if len(chunk) > 2:\n",
    "                        helpers.append((chunk[-1], delta))\n",
    "                        chunks.append({\n",
    "                            'username': elem['username'],\n",
    "                            'chunk': chunk,\n",
    "                            'url': elem['url'],\n",
    "                            'chunk_length': len(chunk),\n",
    "                        })\n",
    "                    break\n",
    "                elif new_event - last_event < delta:\n",
    "                    continue\n",
    "                elif abs(new_event - last_event - delta) <= 100:\n",
    "                    chunk.append(new_event)\n",
    "                    last_event = new_event\n",
    "                    continue\n",
    "    plot.append((elem['count'], time.time()-time_start))"
   ]
  },
  {
   "cell_type": "code",
   "execution_count": 223,
   "metadata": {
    "collapsed": false
   },
   "outputs": [
    {
     "data": {
      "image/png": "[encoded data removed]",
      "text/plain": [
       "<matplotlib.figure.Figure at 0xaf4f360c>"
      ]
     },
     "metadata": {},
     "output_type": "display_data"
    }
   ],
   "source": [
    "import matplotlib.pyplot as plt\n",
    "%matplotlib inline\n",
    "\n",
    "plt.scatter(*zip(*plot))\n",
    "plt.show()"
   ]
  },
  {
   "cell_type": "markdown",
   "metadata": {},
   "source": [
    "График, построенный ниже, не учитывает самое большое количество запросов, чтобы он получился нагляднее"
   ]
  },
  {
   "cell_type": "code",
   "execution_count": 221,
   "metadata": {
    "collapsed": false
   },
   "outputs": [
    {
     "data": {
      "image/png": "[encoded data removed]",
      "text/plain": [
       "<matplotlib.figure.Figure at 0xaab6e50c>"
      ]
     },
     "metadata": {},
     "output_type": "display_data"
    }
   ],
   "source": [
    "import matplotlib.pyplot as plt\n",
    "%matplotlib inline\n",
    "\n",
    "plt.scatter(*zip(*plot))\n",
    "plt.show()"
   ]
  },
  {
   "cell_type": "markdown",
   "metadata": {},
   "source": [
    "По графику видно, что алгоритм имеет экспоненциальную сложность, что является показателем не оптимального алгоритма. Тем не менее, он выполняет свои функции на данной выборке за приемлимое время ~20min. Найдем максимальную длину цепочки периодичных событий: посмотрим на них."
   ]
  },
  {
   "cell_type": "code",
   "execution_count": 225,
   "metadata": {
    "collapsed": false
   },
   "outputs": [
    {
     "name": "stdout",
     "output_type": "stream",
     "text": [
      "10\n",
      "{'username': 'sevankoav', 'url': 'http://192.168.173.17/regenergovoda/appsrv/proxy.dll/Bin', 'chunk': [1457667857149L, 1457667858649L, 1457667860149L, 1457667861649L, 1457667863149L, 1457667864649L, 1457667866149L, 1457667867649L, 1457667869149L, 1457667870649L], 'chunk_length': 10}\n"
     ]
    }
   ],
   "source": [
    "print max([elem['chunk_length'] for elem in chunks])\n",
    "for elem in chunks:\n",
    "    if elem['chunk_length'] == 10:\n",
    "        print elem"
   ]
  },
  {
   "cell_type": "markdown",
   "metadata": {},
   "source": [
    "Задание №5  \n",
    "Поиск регулярных запросов (запросов выполняющихся периодически) по полю src_ip "
   ]
  },
  {
   "cell_type": "markdown",
   "metadata": {},
   "source": [
    "Делаем все тоже самое, что и для поля username"
   ]
  },
  {
   "cell_type": "code",
   "execution_count": 234,
   "metadata": {
    "collapsed": true
   },
   "outputs": [],
   "source": [
    "src_sorted_log = sorted(full_log[1:], key=lambda x: x['src_ip'])"
   ]
  },
  {
   "cell_type": "code",
   "execution_count": 235,
   "metadata": {
    "collapsed": true
   },
   "outputs": [],
   "source": [
    "src_time_list = list()\n",
    "for src_ip, data in groupby(sorted_log, lambda x: x['src_ip']):\n",
    "    new_data = list(data)\n",
    "    sorted_data = sorted(new_data, key=lambda x: x['request_url'])\n",
    "    for url, data in groupby(sorted_data, lambda x: x['request_url']):\n",
    "        requests = list()\n",
    "        list_of_data = list(data)\n",
    "        sorted_data = sorted(list_of_data, key=lambda x: x['time'])\n",
    "        for request in sorted_data:\n",
    "            requests.append(int(float(request['time'])*1000))\n",
    "        if len(requests) > 10:\n",
    "            src_time_list.append({'src_ip': src_ip, 'url': url, 'count': len(requests), 'data': requests})"
   ]
  },
  {
   "cell_type": "code",
   "execution_count": 236,
   "metadata": {
    "collapsed": false
   },
   "outputs": [],
   "source": [
    "sorted_src_time_list = sorted(src_time_list, key=lambda x: x['count'])"
   ]
  },
  {
   "cell_type": "code",
   "execution_count": 237,
   "metadata": {
    "collapsed": true
   },
   "outputs": [],
   "source": [
    "src_chunks = list()\n",
    "\n",
    "for index, elem in enumerate(sorted_src_time_list):\n",
    "    time_start = time.time()\n",
    "    new_time_list = elem['data']\n",
    "    helpers = list()\n",
    "    for i, core_event in enumerate(new_time_list):\n",
    "        for j, next_core_event in enumerate(new_time_list[i+1:]):\n",
    "            chunk = list()\n",
    "            chunk.append(core_event)\n",
    "            chunk.append(next_core_event)\n",
    "            delta = next_core_event - core_event\n",
    "            if delta <= 100:\n",
    "                continue\n",
    "            last_event = next_core_event\n",
    "            for new_event in new_time_list[i+j+2:]:\n",
    "                if new_event - last_event > delta:\n",
    "                    if (chunk[-1], delta) in helpers:\n",
    "                        break\n",
    "                    if len(chunk) > 2:\n",
    "                        helpers.append((chunk[-1], delta))\n",
    "                        src_chunks.append({\n",
    "                            'src_ip': elem['src_ip'],\n",
    "                            'chunk': chunk,\n",
    "                            'url': elem['url'],\n",
    "                            'chunk_length': len(chunk),\n",
    "                        })\n",
    "                    break\n",
    "                elif new_event - last_event < delta:\n",
    "                    continue\n",
    "                elif abs(new_event - last_event - delta) <= 100:\n",
    "                    chunk.append(new_event)\n",
    "                    last_event = new_event\n",
    "                    continue"
   ]
  },
  {
   "cell_type": "code",
   "execution_count": 240,
   "metadata": {
    "collapsed": false
   },
   "outputs": [
    {
     "name": "stdout",
     "output_type": "stream",
     "text": [
      "10\n",
      "{'src_ip': '10.226.116.121', 'url': 'http://192.168.173.17/regenergovoda/appsrv/proxy.dll/Bin', 'chunk': [1457667857149L, 1457667858649L, 1457667860149L, 1457667861649L, 1457667863149L, 1457667864649L, 1457667866149L, 1457667867649L, 1457667869149L, 1457667870649L], 'chunk_length': 10}\n"
     ]
    }
   ],
   "source": [
    "print max([elem['chunk_length'] for elem in src_chunks])\n",
    "for elem in src_chunks:\n",
    "    if elem['chunk_length'] >= 10:\n",
    "        print elem"
   ]
  },
  {
   "cell_type": "markdown",
   "metadata": {},
   "source": [
    "Задание №6  \n",
    "Рассматривая события сетевого трафика как символы неизвестного языка, найти 5 наиболее устойчивых N-грамм журнала событий (текста на неизвестном языке), (https://ru.wikipedia.org/wiki/N-грамм), где N=3-5. Тип символа задается парой username+request_url (в части имени сервера 2го уровня, то есть для username=ivanov и request_url=\"http://s01.do.update.2gis.com/ver3/ping\" тип символа задан как \"ivanov\"+\"2gis.com\")."
   ]
  },
  {
   "cell_type": "markdown",
   "metadata": {},
   "source": [
    "Сначала пройдемся по логу и создадим алфавит, исходя из правила, что тип символа задается парой username+request_url. (порт входит в части имени сервера 2го уровня) Посмотрим, сколько всего у нас букв в словаре. Закодируем каждую букву четырехзначным числом."
   ]
  },
  {
   "cell_type": "code",
   "execution_count": 3,
   "metadata": {
    "collapsed": false
   },
   "outputs": [],
   "source": [
    "from urlparse import urlparse\n",
    "\n",
    "alph = set()\n",
    "for request in full_log[1:]:\n",
    "    if not request['username'] == '-':\n",
    "        if urlparse(request['request_url']).netloc == '':\n",
    "            alph.add(request['username']+'.'.join(request['request_url'].split('.')[-2:]))\n",
    "        else:\n",
    "            alph.add(request['username']+'.'.join(urlparse(request['request_url']).netloc.split('.')[-2:]))"
   ]
  },
  {
   "cell_type": "code",
   "execution_count": 4,
   "metadata": {
    "collapsed": false
   },
   "outputs": [
    {
     "data": {
      "text/plain": [
       "6733"
      ]
     },
     "execution_count": 4,
     "metadata": {},
     "output_type": "execute_result"
    }
   ],
   "source": [
    "len(alph)"
   ]
  },
  {
   "cell_type": "code",
   "execution_count": 5,
   "metadata": {
    "collapsed": false
   },
   "outputs": [],
   "source": [
    "encoded_alph = dict()\n",
    "for i, elem in enumerate(alph):\n",
    "    value = '%04d' % (i)\n",
    "    encoded_alph[elem] = value"
   ]
  },
  {
   "cell_type": "markdown",
   "metadata": {},
   "source": [
    "Составим текст на неизвестном языке с помощью нашего алфавита."
   ]
  },
  {
   "cell_type": "code",
   "execution_count": 6,
   "metadata": {
    "collapsed": false
   },
   "outputs": [],
   "source": [
    "new_log = ''\n",
    "for request in full_log[1:]:\n",
    "    if not request['username'] == '-':\n",
    "        if urlparse(request['request_url']).netloc == '':\n",
    "            letter = request['username']+'.'.join(request['request_url'].split('.')[-2:])\n",
    "        else:\n",
    "            letter = request['username']+'.'.join(urlparse(request['request_url']).netloc.split('.')[-2:])\n",
    "        new_log += encoded_alph[letter]"
   ]
  },
  {
   "cell_type": "markdown",
   "metadata": {},
   "source": [
    "Создадим генератор, который будет итерироваться по строке с заданным окном и шагом."
   ]
  },
  {
   "cell_type": "code",
   "execution_count": 7,
   "metadata": {
    "collapsed": true
   },
   "outputs": [],
   "source": [
    "def window(seq, win_size, step=1): \n",
    "    it = iter(seq)\n",
    "    number_of_chunks = ((len(seq) - win_size) / step) + 1\n",
    "    for i in range(0, number_of_chunks * step,step):\n",
    "        yield seq[i:i + win_size]"
   ]
  },
  {
   "cell_type": "markdown",
   "metadata": {},
   "source": [
    "Подсчитаем количество встреченых N-грамм, где N=3..5. Для этого будем изменять размер окна от 3 символов неизвестного алфавита до 5. Отсортируем по количеству и выведем 10 самых устойчивых N-грамм"
   ]
  },
  {
   "cell_type": "code",
   "execution_count": 20,
   "metadata": {
    "collapsed": false
   },
   "outputs": [],
   "source": [
    "reversed_encoded_alph = {v: k for k, v in encoded_alph.items()}"
   ]
  },
  {
   "cell_type": "code",
   "execution_count": 21,
   "metadata": {
    "collapsed": false
   },
   "outputs": [],
   "source": [
    "import operator\n",
    "\n",
    "ngram_dict = dict()\n",
    "for N in xrange(3, 6):\n",
    "    for ngram in window(new_log, 4*N, 4):\n",
    "        ngram_tuple = tuple([ngram[i:i+4] for i in range(0, len(ngram), 4)])\n",
    "        if ngram_tuple not in ngram_dict:\n",
    "            ngram_dict[ngram_tuple] = 0\n",
    "        else:\n",
    "            ngram_dict[ngram_tuple] += 1"
   ]
  },
  {
   "cell_type": "code",
   "execution_count": 22,
   "metadata": {
    "collapsed": false
   },
   "outputs": [
    {
     "name": "stdout",
     "output_type": "stream",
     "text": [
      "podkopaevataspletnik.ru, podkopaevataspletnik.ru, podkopaevataspletnik.ru, podkopaevataspletnik.ru 555\n",
      "gamberovdvyandex.net:443, gamberovdvyandex.net:443, gamberovdvyandex.net:443, gamberovdvyandex.net:443, gamberovdvyandex.net:443 558\n",
      "gamberovdvyandex.net:443, gamberovdvyandex.net:443, gamberovdvyandex.net:443, gamberovdvyandex.net:443 677\n",
      "podkopaevataspletnik.ru, podkopaevataspletnik.ru, podkopaevataspletnik.ru 698\n",
      "gamberovdvyandex.net:443, gamberovdvyandex.net:443, gamberovdvyandex.net:443 830\n"
     ]
    }
   ],
   "source": [
    "sorted_ngram_dict = sorted(ngram_dict.items(), key=operator.itemgetter(1))\n",
    "for elem, count in sorted_ngram_dict[-5:]:\n",
    "    to_print = ', '.join([reversed_encoded_alph[item] for item in elem])\n",
    "    print to_print, count"
   ]
  },
  {
   "cell_type": "markdown",
   "metadata": {},
   "source": [
    "**Тестирование на проникновение**"
   ]
  },
  {
   "cell_type": "markdown",
   "metadata": {},
   "source": [
    "Задание №1  \n",
    "Вы получили доступ к компьютеру с операционной системой Windows с правами обычного пользователя. В процессе исследования реестра Вы обнаруживаете, что ключи HKEY_LOCAL_MACHINE\\SOFTWARE\\Policies\\Microsoft\\Windows\\Installer\\AlwaysInstallElevated и HKEY_CURRENT_USER\\SOFTWARE\\Policies\\Microsoft\\Windows\\Installer\\AlwaysInstallElevated имеют значение \"1\". Какие шаги Вы предпримите, для повышения привилегий в системе. "
   ]
  },
  {
   "cell_type": "markdown",
   "metadata": {},
   "source": [
    "Данные ключи в реестре указывают на то, что любой MSI-файл должен устанавливаться с повышенными привилегиями (NT AUTHORITY\\SYSTEM). Можно создать специальный MSI-файл, который выполнит наши команды с повышенными привилегиями. После выполнения нашего кода можно вызвать прекращение установки, чтобы действия не были зарегистрированны в системе.\n",
    "\n",
    "Для реализации этой атаки можно использовать Metasploit и его специальный модуль exploit/windows/local/always_install_elevated"
   ]
  },
  {
   "cell_type": "markdown",
   "metadata": {},
   "source": [
    "Задание №2  \n",
    "В процессе прослушивания сети в неразборчивом режиме, вы зафиксировали использование протоколов: ARP, CDP, RPC, DHCP, DTP, HSRP, DNS, SMB, STP, HTTP. Какие действия вы можете предпринять для развития атаки, основываясь на полученных данных? "
   ]
  },
  {
   "cell_type": "markdown",
   "metadata": {},
   "source": [
    "Проанализируем, какие протоколы мы зафиксировали и что мы можем предпринять\n",
    "\n",
    "- ARP (Address Resolution Protocol) Определение соответствия IP и Ethernet адресов\n",
    "\n",
    "Для данного протокола можно реализовать атаку вида ARP-spoofing, так как этот протокол не проверяет подлинность ARP-запросов и ARP-ответов. После того, как наш mac адрес попадет в ARP-таблицы, то в процессе общения двух узлов А и В все пакеты(кадры) будут проходить через наш узел.\n",
    "\n",
    "- CDP (Cisco Discovery Protocol) — протокол второго уровня, разработанный компанией Cisco Systems, позволяющий обнаруживать подключённое сетевое оборудование Cisco (название/модель, версию IOS и IP-адреса, типы подключённых устройств, интерфейсы устройств\n",
    "\n",
    "Данные по CDP передаются в незашифрованном виде. Название модели и версии IOS позволит определить наличие атак для конкретных моделей и версий. Возможно в версии 1 была какая-то уязвимость, а в версии 1.1 ее уже закрыли. И зная версию мы можем сразу реализовать\\исключить атаку на устройства Cisco. Например: CVE-2012-2486, CVE-2012-3073, CVE-2012-3076. Удаленный пользователь может с помощью специально сформированного CDP компонента выполнить произвольный код на целевой системе. (актуально для Cisco TP RS версии 1.8 и ранее)\n",
    "\n",
    "- RPC (Remote Procedure Call) — класс технологий, позволяющих компьютерным программам вызывать функции или процедуры в другом адресном пространстве (как правило, на удалённых компьютерах)\n",
    "\n",
    "Для RPC имело место уязвимость CVE-2013-3175 и в зависимости от ОС и ее версии на клиенте, мы могли бы получить практически полный доступ к удаленному компьютеру. Для определения ОС можно использовать nmap\n",
    "\n",
    "- DHCP (Dynamic Host Configuration Protocol) — сетевой протокол, позволяющий компьютерам автоматически получать IP-адрес и другие параметры, необходимые для работы в сети TCP/IP\n",
    "\n",
    "Если мы определим, какой хост является DHCP сервером, то мы сможем определять, какие запросы клиентов отправлены для получения данных при регистрации в сети. В таком случае, если мы поднимем свой DHCP сервер, то мы можем отвечать на эти запросы, подменя DNS сервер. Таким образом и перенаправляя пользователей на другие сайты. Например, перенаправляя клиентов на свой yandex.ru и перехватывать данный авторизации, которые пользователь сам введет в формы, не подозревая о подмене.  \n",
    "\n",
    "Кроме того мы можем осуществить атаку вида DHCP starvation, которая заставляет DHCP-сервер выдать все существующие на сервере адреса, что облегчит нам дальнейшее проникновение.\n",
    "\n",
    "- DTP (Dynamic Trunking Protocol) — проприетарный сетевой протокол канального уровня, разработанный компанией Cisco для реализации транкинговой системы для связи в сети VLAN между двумя сетевыми коммутаторами и для реализации инкапсуляции\n",
    "\n",
    "Можно осуществить атака типа VLAN hooping. Если атакующее устройство будет вести себя как порт в режиме desirable оно согласует на себя trunk-порт и получит доступ к трафику всех VLAN’ов, которыми оперирует коммутатор.\n",
    "\n",
    "- HSRP (Hot Standby Redundancy Protocol) — протокол, разработанный компанией Cisco Systems, задача которого состоим в том, чтобы добиться максимальной доступности и отказоустойчивости первого хопа от отправителя (\"маршрут по умолчанию\")\n",
    "\n",
    "В некоторых версиях Cisco IOS (например, в 12.1) возможно сконструировать специальный HSRP трафик (отправлять запросы на 1985 порт UDP пакетами со случайными размерами), который создаст состояние петли, в результате маршрутизатор зависнет.\n",
    "Версию мы сможем узнать с помощью CDP протокола.\n",
    "\n",
    "- DNS (Domain Name System) — компьютерная распределённая система для получения информации о доменах\n",
    "\n",
    "Уязвимости, связанные с DNS были описаны в разделе про DHCP. Кроме того: Amplification attack (атака с усилением) — направлена на перегрузку исходящего канала DNS-сервера. Она начинаются с отправки большого количества DNS-запросов, специально подобранных таким образом, чтобы получить очень большой ответ, размер которого может до 70 раз превышать размер запроса, что приведет к перегрузке исходящего канала DNS-сервера и в конечном счете к отказу в обслуживании (DoS);\n",
    "\n",
    "- SMB (Server Message Block) — сетевой протокол прикладного уровня для удалённого доступа к файлам, принтерам и другим сетевым ресурсам, а также для межпроцессного взаимодействия\n",
    "\n",
    "Известная такая уязвимость, как Redirect to SMB. (актуальна для Windows и программ, использующие Windows API) Если мы отправим клиенту адресс file://1.1.1.1/, то когда пользователь его откроет в браузере IE, операционная система попробует авторизоваться на SMB-сервере с IP-адресом 1.1.1.1. Кроме того, прослушивая трафик SMB мы можем выловить Session ID и с помощью него получить доступ к cmd жертвы. Также можно упомянуть SMBRelay.\n",
    "\n",
    "- STP (Spanning Tree Protocol) — канальный протокол, основной задачей которого является устранение петель в топологии произвольной сети Ethernet, в которой есть один или более сетевых мостов, связанных избыточными соединениями\n",
    "\n",
    "Посколько в STP нет механизмов аутентификации, то мы можем создать BPDU фреймы с несуществующим корневым мостом. Используя минимальное значение max-age, мы спровоцируем повторный выбор корневого моста.\n",
    "\n",
    "- HTTP (HyperText Transfer Protocol) — протокол прикладного уровня передачи данных (изначально — в виде гипертекстовых документов в формате HTML, в настоящий момент используется для передачи произвольных данных)\n",
    "\n",
    "Что касается HTTP, то здесь очень много различных уязвимостей, которые можно было бы использовать. Для начала, получая весь трафик, который идет при авторизации на различных сайтах без шифрования (чистый http), мы сможем поймать как сами логины\\пароли, так и сессионные куки, которые сайты выдают пользователям. И другие уязвимости прикладного уровня: Инъекции (SQL, LDAP), Cross Site Scripting (XSS), Cross Site Request Forgery (CSRF) "
   ]
  }
 ],
 "metadata": {
  "kernelspec": {
   "display_name": "Python 2",
   "language": "python",
   "name": "python2"
  },
  "language_info": {
   "codemirror_mode": {
    "name": "ipython",
    "version": 2
   },
   "file_extension": ".py",
   "mimetype": "text/x-python",
   "name": "python",
   "nbconvert_exporter": "python",
   "pygments_lexer": "ipython2",
   "version": "2.7.6"
  }
 },
 "nbformat": 4,
 "nbformat_minor": 0
}
